{
 "cells": [
  {
   "cell_type": "markdown",
   "metadata": {
    "slideshow": {
     "slide_type": "slide"
    }
   },
   "source": [
    "# Funtional Programming for Data Science (in Python)\n",
    "---\n",
    "PyData Dublin, 17$^\\mathsf{th}$ May 2018\n",
    "\n",
    "Neal Ó Riain"
   ]
  },
  {
   "cell_type": "markdown",
   "metadata": {
    "slideshow": {
     "slide_type": "slide"
    }
   },
   "source": [
    "# ``` $ whoami```\n",
    "---\n",
    "\n",
    "<img src=\"imgs/me.jpg\" width=\"35%\" align=\"right\"> \n",
    " \n",
    " * Former Astrophysicist (🔭, 🚀, 🌝)\n",
    " \n",
    " \n",
    "<br> \n",
    " \n",
    " \n",
    " * Current Data Scientist at Amazon.\n",
    " \n",
    " <br> \n",
    " \n",
    " \n",
    " * ((Semi-) Pragmatic) Functional Programmer."
   ]
  },
  {
   "cell_type": "markdown",
   "metadata": {
    "slideshow": {
     "slide_type": "slide"
    }
   },
   "source": [
    "# Outline\n",
    "---\n",
    "\n",
    "* What is FP and why would I use it?\n",
    " \n",
    " \n",
    "<br> \n",
    " \n",
    "* Some FP primitives in Python\n",
    "\n",
    "<br> \n",
    " \n",
    "* Example\n",
    "\n"
   ]
  },
  {
   "cell_type": "markdown",
   "metadata": {
    "slideshow": {
     "slide_type": "slide"
    }
   },
   "source": [
    "<center>\n",
    "<H1> What is a Functional Programming? <H1>\n",
    "</center>"
   ]
  },
  {
   "cell_type": "markdown",
   "metadata": {
    "slideshow": {
     "slide_type": "slide"
    }
   },
   "source": [
    "```C\n",
    "#include <stdio.h>\n",
    "\n",
    "main()\n",
    "{\n",
    "        printf(\"hello, world\\n\");\n",
    "}\n",
    "```"
   ]
  },
  {
   "cell_type": "markdown",
   "metadata": {
    "slideshow": {
     "slide_type": "subslide"
    }
   },
   "source": [
    "<center>\n",
    "<font size=\"6\">$\\lambda f . (\\lambda z\\,. f (z\\;z)) (\\lambda z\\,. f(z \\; z))$</font>\n",
    "</center>"
   ]
  },
  {
   "cell_type": "markdown",
   "metadata": {
    "slideshow": {
     "slide_type": "subslide"
    }
   },
   "source": [
    "<center>\n",
    "<img src=\"imgs/Alonzo_Church.jpg\" width=\"50%\">\n",
    "</center>"
   ]
  },
  {
   "cell_type": "markdown",
   "metadata": {
    "slideshow": {
     "slide_type": "subslide"
    }
   },
   "source": [
    "<center>\n",
    "<img src=\"imgs/turing_machine.jpg\" width=\"90%\">\n",
    "</center>"
   ]
  },
  {
   "cell_type": "markdown",
   "metadata": {
    "slideshow": {
     "slide_type": "subslide"
    }
   },
   "source": [
    "```C\n",
    "static void release_callchain_buffers_rcu(struct rcu_head *head)\n",
    "{\n",
    "\tstruct callchain_cpus_entries *entries;\n",
    "\tint cpu;\n",
    "\n",
    "\tentries = container_of(head, struct callchain_cpus_entries, rcu_head);\n",
    "\n",
    "\tfor_each_possible_cpu(cpu)\n",
    "\t\tkfree(entries->cpu_entries[cpu]);\n",
    "\n",
    "\tkfree(entries);\n",
    "}\n",
    "\n",
    "static void release_callchain_buffers(void)\n",
    "{\n",
    "\tstruct callchain_cpus_entries *entries;\n",
    "\n",
    "\tentries = callchain_cpus_entries;\n",
    "\tRCU_INIT_POINTER(callchain_cpus_entries, NULL);\n",
    "\tcall_rcu(&entries->rcu_head, release_callchain_buffers_rcu);\n",
    "}\n",
    "\n",
    "```"
   ]
  },
  {
   "cell_type": "markdown",
   "metadata": {
    "slideshow": {
     "slide_type": "slide"
    }
   },
   "source": [
    "<center>\n",
    "<h2>Immutability</h2>\n",
    "</center>"
   ]
  },
  {
   "cell_type": "markdown",
   "metadata": {
    "slideshow": {
     "slide_type": "fragment"
    }
   },
   "source": [
    "<center>\n",
    "<h2>Algebraic Types</h2>\n",
    "</center>"
   ]
  },
  {
   "cell_type": "markdown",
   "metadata": {
    "slideshow": {
     "slide_type": "fragment"
    }
   },
   "source": [
    "<center>\n",
    "<h2>Purity</h2>\n",
    "</center>"
   ]
  },
  {
   "cell_type": "markdown",
   "metadata": {
    "slideshow": {
     "slide_type": "fragment"
    }
   },
   "source": [
    "<center>\n",
    "<h2>Higher-order functions</h2>\n",
    "</center>"
   ]
  },
  {
   "cell_type": "markdown",
   "metadata": {
    "slideshow": {
     "slide_type": "fragment"
    }
   },
   "source": [
    "<center>\n",
    "<h2>Laziness</h2>\n",
    "</center>"
   ]
  },
  {
   "cell_type": "markdown",
   "metadata": {
    "slideshow": {
     "slide_type": "slide"
    }
   },
   "source": [
    "# Why?\n",
    "---\n",
    "\n",
    "* Less code\n",
    "\n",
    "<br>\n",
    "\n",
    "* Clear code\n",
    "\n",
    "<br>\n",
    "\n",
    "* Efficient code\n",
    "\n",
    "<br>\n",
    "\n",
    "* Safe code\n"
   ]
  },
  {
   "cell_type": "markdown",
   "metadata": {
    "slideshow": {
     "slide_type": "slide"
    }
   },
   "source": [
    "<center>\n",
    "<h2>FP Primitives in Python</h2>\n",
    "</center>"
   ]
  },
  {
   "cell_type": "code",
   "execution_count": 11,
   "metadata": {
    "collapsed": false,
    "slideshow": {
     "slide_type": "slide"
    }
   },
   "outputs": [
    {
     "data": {
      "text/plain": [
       "100"
      ]
     },
     "execution_count": 11,
     "metadata": {},
     "output_type": "execute_result"
    }
   ],
   "source": [
    "def scale_and_sum(x, scale_factor=10):\n",
    "    scaled = [i * scale_factor for i in x]\n",
    "    c = scaled[0]\n",
    "    for i in scaled[1:]:\n",
    "        c += i\n",
    "    \n",
    "    return c\n",
    "\n",
    "scale_and_sum([1, 2, 3, 4])"
   ]
  },
  {
   "cell_type": "code",
   "execution_count": 12,
   "metadata": {
    "collapsed": false,
    "slideshow": {
     "slide_type": "fragment"
    }
   },
   "outputs": [
    {
     "data": {
      "text/plain": [
       "'1111111111222222222233333333334444444444'"
      ]
     },
     "execution_count": 12,
     "metadata": {},
     "output_type": "execute_result"
    }
   ],
   "source": [
    "scale_and_sum(['1', '2', '3', '4'])"
   ]
  },
  {
   "cell_type": "code",
   "execution_count": 13,
   "metadata": {
    "collapsed": false,
    "slideshow": {
     "slide_type": "slide"
    }
   },
   "outputs": [
    {
     "data": {
      "text/plain": [
       "100"
      ]
     },
     "execution_count": 13,
     "metadata": {},
     "output_type": "execute_result"
    }
   ],
   "source": [
    "from typing import List\n",
    "\n",
    "Vector = List[int]\n",
    "\n",
    "def scale(x: Vector, scale_factor: int = 10) -> Vector:\n",
    "    scaled = [i * scale_factor for i in x]\n",
    "    c = scaled[0]\n",
    "    for i in scaled[1:]:\n",
    "        c += i\n",
    "        \n",
    "    return c\n",
    "\n",
    "scale_and_sum([1, 2, 3, 4])"
   ]
  },
  {
   "cell_type": "markdown",
   "metadata": {},
   "source": [
    "## Iterators and Laziness"
   ]
  },
  {
   "cell_type": "markdown",
   "metadata": {},
   "source": [
    "## Hofs"
   ]
  },
  {
   "cell_type": "markdown",
   "metadata": {
    "slideshow": {
     "slide_type": "slide"
    }
   },
   "source": [
    "## Currying\n",
    "---\n",
    "\n",
    "<center>\n",
    "$f(x, y, x) \\rightarrow f(x)(y)(z)$\n",
    "</center>"
   ]
  },
  {
   "cell_type": "code",
   "execution_count": 46,
   "metadata": {
    "collapsed": false
   },
   "outputs": [
    {
     "name": "stdout",
     "output_type": "stream",
     "text": [
      "<function add_and_scale at 0x10dc34048>\n",
      "<function add_and_scale at 0x10dc34048>\n",
      "60\n"
     ]
    }
   ],
   "source": [
    "from toolz import curry\n",
    "\n",
    "def add_and_scale(x, y, z):\n",
    "    return (x + y) * z\n",
    "\n",
    "add_and_scale = curry(add_and_scale)\n",
    "print(add_and_scale)\n",
    "\n",
    "add_c = add_and_scale(10, 20)\n",
    "print(add_c)\n",
    "\n",
    "print(add_c(2))"
   ]
  },
  {
   "cell_type": "code",
   "execution_count": 6,
   "metadata": {
    "slideshow": {
     "slide_type": "slide"
    }
   },
   "outputs": [
    {
     "name": "stdout",
     "output_type": "stream",
     "text": [
      "['Alice', 'Bob', 'Eve']\n"
     ]
    }
   ],
   "source": [
    "names = ['alice', 'bob', 'eve']\n",
    "\n",
    "names_up = []\n",
    "for name in names:\n",
    "    names_up.append(name.capitalize())\n",
    "    \n",
    "print(names_up)"
   ]
  },
  {
   "cell_type": "markdown",
   "metadata": {
    "slideshow": {
     "slide_type": "slide"
    }
   },
   "source": [
    "```python\n",
    "data = [values] \n",
    "\n",
    "output = []\n",
    "for value in data:\n",
    "    output.append(function(value))\n",
    "```"
   ]
  },
  {
   "cell_type": "markdown",
   "metadata": {
    "slideshow": {
     "slide_type": "slide"
    }
   },
   "source": [
    "<center>\n",
    "<pre>loop_and_append(function, data)</pre>\n",
    "</center>"
   ]
  },
  {
   "cell_type": "markdown",
   "metadata": {
    "slideshow": {
     "slide_type": "fragment"
    }
   },
   "source": [
    "```python\n",
    "map(str.capitalize, ['alice', 'bob', 'eve'])\n",
    "```"
   ]
  },
  {
   "cell_type": "markdown",
   "metadata": {
    "slideshow": {
     "slide_type": "slide"
    }
   },
   "source": [
    "```python\n",
    "data = [values] \n",
    "\n",
    "output = []\n",
    "for value in data:\n",
    "    if predicate(value):\n",
    "        output.append(value)\n",
    "```"
   ]
  },
  {
   "cell_type": "markdown",
   "metadata": {
    "slideshow": {
     "slide_type": "fragment"
    }
   },
   "source": [
    "```python\n",
    "filter(lambda x: x > 10, [2, 57, 41, 5, 92, 84, 23])\n",
    "```"
   ]
  },
  {
   "cell_type": "markdown",
   "metadata": {},
   "source": [
    "## Packages"
   ]
  },
  {
   "cell_type": "code",
   "execution_count": null,
   "metadata": {},
   "outputs": [],
   "source": []
  }
 ],
 "metadata": {
  "celltoolbar": "Slideshow",
  "kernelspec": {
   "display_name": "Python 3",
   "language": "python",
   "name": "python3"
  },
  "language_info": {
   "codemirror_mode": {
    "name": "ipython",
    "version": 3
   },
   "file_extension": ".py",
   "mimetype": "text/x-python",
   "name": "python",
   "nbconvert_exporter": "python",
   "pygments_lexer": "ipython3",
   "version": "3.6.4"
  }
 },
 "nbformat": 4,
 "nbformat_minor": 2
}
