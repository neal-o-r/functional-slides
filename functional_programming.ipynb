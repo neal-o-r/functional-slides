{
 "cells": [
  {
   "cell_type": "markdown",
   "metadata": {
    "slideshow": {
     "slide_type": "slide"
    }
   },
   "source": [
    "# Functional Programming for Data Science\n",
    "---\n",
    "**Neal Ó Riain**\n",
    "\n",
    "PyData Dublin, 10$^\\mathsf{th}$ November 2018"
   ]
  },
  {
   "cell_type": "markdown",
   "metadata": {
    "slideshow": {
     "slide_type": "slide"
    }
   },
   "source": [
    "# ``` $ whoami```\n",
    "---\n",
    "\n",
    "<img src=\"img/me.jpg\" width=\"35%\" align=\"right\"> \n",
    " \n",
    " * Former Astrophysicist (🔭, 🚀, 🌝)\n",
    " \n",
    " \n",
    "<br> \n",
    " \n",
    " \n",
    " * Current Data Scientist at Amazon.\n",
    " \n",
    " \n",
    " <br> \n",
    " \n",
    " \n",
    " * ((Semi-) Pragmatic) Functional Programmer."
   ]
  },
  {
   "cell_type": "markdown",
   "metadata": {
    "slideshow": {
     "slide_type": "slide"
    }
   },
   "source": [
    "# Outline\n",
    "\n",
    "* What is FP and why would I use it?\n",
    " \n",
    " \n",
    "<br> \n",
    " \n",
    "* Some FP primitives in Python\n",
    "\n",
    "<br> \n",
    " \n",
    "* Example\n",
    "\n"
   ]
  },
  {
   "cell_type": "markdown",
   "metadata": {
    "slideshow": {
     "slide_type": "slide"
    }
   },
   "source": [
    "<center>\n",
    "<H1> What is Functional Programming? <H1>\n",
    "</center>"
   ]
  },
  {
   "cell_type": "markdown",
   "metadata": {
    "slideshow": {
     "slide_type": "slide"
    }
   },
   "source": [
    "<center>\n",
    "<H1> What is a <em>Function</em>? <H1>\n",
    "</center>"
   ]
  },
  {
   "cell_type": "markdown",
   "metadata": {
    "slideshow": {
     "slide_type": "subslide"
    }
   },
   "source": [
    "```C\n",
    "#include <stdio.h>\n",
    "\n",
    "main()\n",
    "{\n",
    "        printf(\"hello, world\\n\");\n",
    "}\n",
    "```"
   ]
  },
  {
   "cell_type": "markdown",
   "metadata": {
    "slideshow": {
     "slide_type": "subslide"
    }
   },
   "source": [
    "<center>\n",
    "<H1>Structured Programming<H1>\n",
    "</center>"
   ]
  },
  {
   "cell_type": "markdown",
   "metadata": {
    "slideshow": {
     "slide_type": "subslide"
    }
   },
   "source": [
    "# Structured Data\n",
    "\n",
    "![combine](img/data-structures.png)"
   ]
  },
  {
   "cell_type": "markdown",
   "metadata": {
    "slideshow": {
     "slide_type": "subslide"
    }
   },
   "source": [
    "# Structured Code"
   ]
  },
  {
   "cell_type": "markdown",
   "metadata": {
    "slideshow": {
     "slide_type": "fragment"
    }
   },
   "source": [
    "```python\n",
    "def problem():\n",
    "    s1 = sub_problem1()\n",
    "    s2 = sub_problem2()\n",
    "    return s1 + s2\n",
    "\n",
    "def sub_problem1():\n",
    "    \n",
    "def sub_problem2():\n",
    "    \n",
    "def sub_sub_problem1():\n",
    "```"
   ]
  },
  {
   "cell_type": "markdown",
   "metadata": {
    "slideshow": {
     "slide_type": "subslide"
    }
   },
   "source": [
    "<center>\n",
    "<H1>Modularity!<H1>\n",
    "<img src=\"img/lego.gif\" height=\"500px\" width=\"500px\">\n",
    "</center>\n"
   ]
  },
  {
   "cell_type": "markdown",
   "metadata": {
    "slideshow": {
     "slide_type": "subslide"
    }
   },
   "source": [
    "<center>\n",
    "<H1>Modularity!</H1>\n",
    "</center>"
   ]
  },
  {
   "cell_type": "markdown",
   "metadata": {
    "slideshow": {
     "slide_type": "fragment"
    }
   },
   "source": [
    "<center>\n",
    "Re-usable\n",
    "</center>"
   ]
  },
  {
   "cell_type": "markdown",
   "metadata": {
    "slideshow": {
     "slide_type": "fragment"
    }
   },
   "source": [
    "<center>\n",
    "Easier to code\n",
    "</center>"
   ]
  },
  {
   "cell_type": "markdown",
   "metadata": {
    "slideshow": {
     "slide_type": "fragment"
    }
   },
   "source": [
    "<center>\n",
    "Debug-able\n",
    "</center>"
   ]
  },
  {
   "cell_type": "markdown",
   "metadata": {
    "slideshow": {
     "slide_type": "subslide"
    }
   },
   "source": [
    "```python\n",
    "def problem():\n",
    "    s1 = sub_problem1()\n",
    "    s2 = sub_problem2()\n",
    "    return s1 + s2\n",
    "\n",
    "def sub_problem1():\n",
    "    \n",
    "def sub_problem2():\n",
    "    \n",
    "def sub_sub_problem1():\n",
    "```"
   ]
  },
  {
   "cell_type": "markdown",
   "metadata": {
    "slideshow": {
     "slide_type": "subslide"
    }
   },
   "source": [
    "<center>\n",
    "<img src=\"img/glue.jpg\" width=\"500px\">\n",
    "</center>"
   ]
  },
  {
   "cell_type": "markdown",
   "metadata": {
    "slideshow": {
     "slide_type": "subslide"
    }
   },
   "source": [
    "<center>\n",
    "<h1>\n",
    "Flexibility > Complexity \n",
    "</h1>\n",
    "</center>"
   ]
  },
  {
   "cell_type": "markdown",
   "metadata": {
    "slideshow": {
     "slide_type": "slide"
    }
   },
   "source": [
    "# Glue\n",
    "\n",
    "* Purity\n",
    "\n",
    "<br>\n",
    "\n",
    "* Static Analysis\n",
    "\n",
    "<br>\n",
    "\n",
    "* Laziness\n",
    "\n",
    "<br>\n",
    "\n",
    "* Higher Order Functions\n"
   ]
  },
  {
   "cell_type": "markdown",
   "metadata": {
    "slideshow": {
     "slide_type": "slide"
    }
   },
   "source": [
    "<center>\n",
    "<h2>FP in Python</h2>\n",
    "</center>"
   ]
  },
  {
   "cell_type": "markdown",
   "metadata": {
    "slideshow": {
     "slide_type": "slide"
    }
   },
   "source": [
    "<center>\n",
    "<h2>Purity</h2>\n",
    "</center>"
   ]
  },
  {
   "cell_type": "code",
   "execution_count": 1,
   "metadata": {
    "slideshow": {
     "slide_type": "subslide"
    }
   },
   "outputs": [],
   "source": [
    "flag = True\n",
    "\n",
    "def not_pure(x):\n",
    "    if flag:\n",
    "        return x / 10\n",
    "    return x * 10"
   ]
  },
  {
   "cell_type": "code",
   "execution_count": 2,
   "metadata": {
    "slideshow": {
     "slide_type": "fragment"
    }
   },
   "outputs": [],
   "source": [
    "def not_pure_either(x):\n",
    "    with open('test.txt') as f:\n",
    "        print(x, f.read())"
   ]
  },
  {
   "cell_type": "code",
   "execution_count": 3,
   "metadata": {
    "slideshow": {
     "slide_type": "subslide"
    }
   },
   "outputs": [],
   "source": [
    "data = [1, 2, 3, 4]\n",
    "n = 5\n",
    "\n",
    "def scale(lst):\n",
    "    for i in range(len(lst)):\n",
    "        lst[i] = lst[i] * n\n",
    "    return lst\n",
    "\n",
    "result = scale(data)"
   ]
  },
  {
   "cell_type": "code",
   "execution_count": 4,
   "metadata": {
    "slideshow": {
     "slide_type": "fragment"
    }
   },
   "outputs": [
    {
     "name": "stdout",
     "output_type": "stream",
     "text": [
      "[5, 10, 15, 20]\n",
      "[5, 10, 15, 20]\n"
     ]
    }
   ],
   "source": [
    "print(data)\n",
    "print(result)"
   ]
  },
  {
   "cell_type": "code",
   "execution_count": 5,
   "metadata": {
    "slideshow": {
     "slide_type": "subslide"
    }
   },
   "outputs": [
    {
     "name": "stdout",
     "output_type": "stream",
     "text": [
      "[1, 2, 3, 4]\n",
      "[5, 10, 15, 20]\n"
     ]
    }
   ],
   "source": [
    "data = [1, 2, 3, 4]\n",
    "\n",
    "def scale(lst, n=5):\n",
    "    return [n * v for v in lst]\n",
    "\n",
    "result = scale(data)\n",
    "print(data)\n",
    "print(result)"
   ]
  },
  {
   "cell_type": "markdown",
   "metadata": {
    "slideshow": {
     "slide_type": "slide"
    }
   },
   "source": [
    "<center>\n",
    "<H1>Static Analysis</H1>\n",
    "</center>"
   ]
  },
  {
   "cell_type": "code",
   "execution_count": 6,
   "metadata": {
    "slideshow": {
     "slide_type": "subslide"
    }
   },
   "outputs": [
    {
     "name": "stdout",
     "output_type": "stream",
     "text": [
      "[1, 2, 3, 4]\n",
      "[5, 10, 15, 20]\n"
     ]
    }
   ],
   "source": [
    "data = [1, 2, 3, 4]\n",
    "\n",
    "def scale(lst, n=5):\n",
    "    return [n * v for v in lst]\n",
    "\n",
    "result = scale(data)\n",
    "print(data)\n",
    "print(result)"
   ]
  },
  {
   "cell_type": "code",
   "execution_count": 7,
   "metadata": {
    "slideshow": {
     "slide_type": "fragment"
    }
   },
   "outputs": [
    {
     "data": {
      "text/plain": [
       "['11111', '22222', '33333', '44444']"
      ]
     },
     "execution_count": 7,
     "metadata": {},
     "output_type": "execute_result"
    }
   ],
   "source": [
    "scale(['1', '2', '3', '4'])"
   ]
  },
  {
   "cell_type": "code",
   "execution_count": 8,
   "metadata": {
    "slideshow": {
     "slide_type": "subslide"
    }
   },
   "outputs": [],
   "source": [
    "from typing import List\n",
    "\n",
    "Vector = List[int]\n",
    "\n",
    "def scale(lst: Vector, s: int=5) -> Vector:\n",
    "    return [s * v for v in lst]\n"
   ]
  },
  {
   "cell_type": "code",
   "execution_count": 9,
   "metadata": {
    "slideshow": {
     "slide_type": "fragment"
    }
   },
   "outputs": [
    {
     "data": {
      "text/plain": [
       "['11111', '22222', '33333', '44444']"
      ]
     },
     "execution_count": 9,
     "metadata": {},
     "output_type": "execute_result"
    }
   ],
   "source": [
    "scale(['1', '2', '3', '4'])"
   ]
  },
  {
   "cell_type": "markdown",
   "metadata": {
    "slideshow": {
     "slide_type": "subslide"
    }
   },
   "source": [
    "![mypy](img/mypy_out.png)"
   ]
  },
  {
   "cell_type": "markdown",
   "metadata": {
    "slideshow": {
     "slide_type": "slide"
    }
   },
   "source": [
    "<center>\n",
    "<h2>Laziness</h2>\n",
    "</center>"
   ]
  },
  {
   "cell_type": "markdown",
   "metadata": {
    "slideshow": {
     "slide_type": "subslide"
    }
   },
   "source": [
    "```python\n",
    "for char in 'python':\n",
    "    \n",
    "for value in [1, 2, 3, 4]:\n",
    "\n",
    "for key in {'A': 1, 'B': 2}:\n",
    "```\n"
   ]
  },
  {
   "cell_type": "markdown",
   "metadata": {
    "slideshow": {
     "slide_type": "subslide"
    }
   },
   "source": [
    "<center>\n",
    "$$g(\\,f(x))$$\n",
    "</center>"
   ]
  },
  {
   "cell_type": "code",
   "execution_count": 10,
   "metadata": {
    "slideshow": {
     "slide_type": "subslide"
    }
   },
   "outputs": [
    {
     "name": "stdout",
     "output_type": "stream",
     "text": [
      "0\n",
      "1\n",
      "2\n",
      "3\n"
     ]
    }
   ],
   "source": [
    "def numbers(x: int=0) -> int:\n",
    "    while True:\n",
    "        yield x\n",
    "        x += 1\n",
    "        \n",
    "n = numbers()\n",
    "\n",
    "print(next(n))\n",
    "print(next(n))\n",
    "print(next(n))\n",
    "print(next(n))"
   ]
  },
  {
   "cell_type": "code",
   "execution_count": 11,
   "metadata": {
    "slideshow": {
     "slide_type": "subslide"
    }
   },
   "outputs": [
    {
     "data": {
      "text/plain": [
       "169"
      ]
     },
     "execution_count": 11,
     "metadata": {},
     "output_type": "execute_result"
    }
   ],
   "source": [
    "from itertools import takewhile\n",
    "\n",
    "def predicate(x: int) -> bool:\n",
    "    p = x**2 + 10 * x + 50\n",
    "    return p < 1000\n",
    "\n",
    "odd_nums = (x for x in numbers() if x % 2)\n",
    "nums_lt = takewhile(predicate, odd_nums)\n",
    "sum(nums_lt)"
   ]
  },
  {
   "cell_type": "markdown",
   "metadata": {
    "slideshow": {
     "slide_type": "slide"
    }
   },
   "source": [
    "<center>\n",
    "    <H1> Higher Order Functions</H1>\n",
    "</center>"
   ]
  },
  {
   "cell_type": "code",
   "execution_count": 12,
   "metadata": {
    "slideshow": {
     "slide_type": "slide"
    }
   },
   "outputs": [
    {
     "name": "stdout",
     "output_type": "stream",
     "text": [
      "['Alice', 'Bob', 'Eve']\n"
     ]
    }
   ],
   "source": [
    "names = ['alice', 'bob', 'eve'] \n",
    "\n",
    "capitalised = []\n",
    "for name in names:\n",
    "    capitalised.append(str.capitalize(name))\n",
    "\n",
    "print(capitalised)"
   ]
  },
  {
   "cell_type": "markdown",
   "metadata": {
    "slideshow": {
     "slide_type": "subslide"
    }
   },
   "source": [
    "```python\n",
    "data = [values] \n",
    "\n",
    "output = []\n",
    "for value in data:\n",
    "        output.append(function(value))\n",
    "```"
   ]
  },
  {
   "cell_type": "markdown",
   "metadata": {
    "slideshow": {
     "slide_type": "subslide"
    }
   },
   "source": [
    "<pre>loop_and_append(function, data)</pre>"
   ]
  },
  {
   "cell_type": "code",
   "execution_count": 13,
   "metadata": {
    "slideshow": {
     "slide_type": "fragment"
    }
   },
   "outputs": [
    {
     "data": {
      "text/plain": [
       "['Alice', 'Bob', 'Eve']"
      ]
     },
     "execution_count": 13,
     "metadata": {},
     "output_type": "execute_result"
    }
   ],
   "source": [
    "\n",
    "list(map(str.capitalize, ['alice', 'bob', 'eve']))\n"
   ]
  },
  {
   "cell_type": "markdown",
   "metadata": {
    "slideshow": {
     "slide_type": "subslide"
    }
   },
   "source": [
    "# Filter\n",
    "\n",
    "<br>\n",
    "\n",
    "```python\n",
    "data = [values] \n",
    "\n",
    "output = []\n",
    "for value in data:\n",
    "    if predicate(value):\n",
    "        output.append(value)\n",
    "```"
   ]
  },
  {
   "cell_type": "code",
   "execution_count": 14,
   "metadata": {
    "slideshow": {
     "slide_type": "fragment"
    }
   },
   "outputs": [
    {
     "data": {
      "text/plain": [
       "[57, 41, 92, 84]"
      ]
     },
     "execution_count": 14,
     "metadata": {},
     "output_type": "execute_result"
    }
   ],
   "source": [
    "\n",
    "list(filter(lambda x: x > 10, [2, 57, 41, 5, 92, 84, 2.3]))"
   ]
  },
  {
   "cell_type": "markdown",
   "metadata": {
    "slideshow": {
     "slide_type": "slide"
    }
   },
   "source": [
    "# Reduce\n",
    "\n",
    "\n",
    "<center>\n",
    "$g(f,\\; [x_1, x_2, x_3],\\;i) \\rightarrow f(i,\\;f(x_1,\\;f(x_2,\\;x_3)))$\n",
    "</center>"
   ]
  },
  {
   "cell_type": "code",
   "execution_count": 15,
   "metadata": {
    "slideshow": {
     "slide_type": "subslide"
    }
   },
   "outputs": [
    {
     "data": {
      "text/plain": [
       "10"
      ]
     },
     "execution_count": 15,
     "metadata": {},
     "output_type": "execute_result"
    }
   ],
   "source": [
    "from functools import reduce\n",
    "from operator import add\n",
    "\n",
    "reduce(add, [1, 2, 3, 4], 0) #sum"
   ]
  },
  {
   "cell_type": "code",
   "execution_count": 16,
   "metadata": {
    "slideshow": {
     "slide_type": "subslide"
    }
   },
   "outputs": [
    {
     "data": {
      "text/plain": [
       "24"
      ]
     },
     "execution_count": 16,
     "metadata": {},
     "output_type": "execute_result"
    }
   ],
   "source": [
    "from functools import reduce\n",
    "from operator import mul\n",
    "\n",
    "reduce(mul, [1, 2, 3, 4], 1) #factorial"
   ]
  },
  {
   "cell_type": "code",
   "execution_count": 17,
   "metadata": {
    "slideshow": {
     "slide_type": "subslide"
    }
   },
   "outputs": [
    {
     "data": {
      "text/plain": [
       "40"
      ]
     },
     "execution_count": 17,
     "metadata": {},
     "output_type": "execute_result"
    }
   ],
   "source": [
    "from functools import reduce\n",
    "from operator import mul, add\n",
    "\n",
    "reduce(add, map(mul, [1, 2, 3, 4], [2, 3, 4, 5])) #dot product"
   ]
  },
  {
   "cell_type": "markdown",
   "metadata": {
    "slideshow": {
     "slide_type": "slide"
    }
   },
   "source": [
    "# Currying\n",
    "\n",
    "<center>\n",
    "$f(x, y, z) \\rightarrow f(x)(y)(z)$\n",
    "</center>"
   ]
  },
  {
   "cell_type": "code",
   "execution_count": 18,
   "metadata": {
    "slideshow": {
     "slide_type": "subslide"
    }
   },
   "outputs": [
    {
     "data": {
      "text/plain": [
       "60"
      ]
     },
     "execution_count": 18,
     "metadata": {},
     "output_type": "execute_result"
    }
   ],
   "source": [
    "from toolz import curry\n",
    "\n",
    "def add_and_scale(x: int, y: int, z: int) -> int:\n",
    "    return (x + y) * z\n",
    "\n",
    "add_and_scale = curry(add_and_scale)\n",
    "\n",
    "add_and_scale(10)(20)(2)"
   ]
  },
  {
   "cell_type": "markdown",
   "metadata": {
    "slideshow": {
     "slide_type": "slide"
    }
   },
   "source": [
    "# Composition\n",
    "\n",
    "<center>\n",
    "$g(f(x)) \\rightarrow (g\\cdot f)(x)$\n",
    "</center>"
   ]
  },
  {
   "cell_type": "code",
   "execution_count": 19,
   "metadata": {
    "slideshow": {
     "slide_type": "subslide"
    }
   },
   "outputs": [
    {
     "data": {
      "text/plain": [
       "60"
      ]
     },
     "execution_count": 19,
     "metadata": {},
     "output_type": "execute_result"
    }
   ],
   "source": [
    "from toolz import compose\n",
    "\n",
    "def add(x: int, y: int) -> int:\n",
    "    return x + y\n",
    "\n",
    "def mul(x: int, y: int) -> int:\n",
    "    return x * y\n",
    "\n",
    "mul2 = curry(mul)(2)\n",
    "\n",
    "add_and_mul2 = compose(mul2, add)\n",
    "\n",
    "add_and_mul2(10, 20)"
   ]
  },
  {
   "cell_type": "markdown",
   "metadata": {
    "slideshow": {
     "slide_type": "slide"
    }
   },
   "source": [
    "<center>\n",
    "<H1>Example I: SGD</H1>\n",
    "</center>"
   ]
  },
  {
   "cell_type": "code",
   "execution_count": 36,
   "metadata": {
    "slideshow": {
     "slide_type": "skip"
    }
   },
   "outputs": [],
   "source": [
    "import toolz as tz\n",
    "from numpy import random as rd\n",
    "import itertools\n",
    "from operator import sub\n",
    "import matplotlib.pyplot as plt\n",
    "%config InlineBackend.figure_format = 'retina'\n",
    "plt.style.use('ggplot')\n",
    "plt.rcParams['figure.figsize'] = [10, 6]\n",
    "rd.seed(123)"
   ]
  },
  {
   "cell_type": "code",
   "execution_count": 37,
   "metadata": {
    "slideshow": {
     "slide_type": "subslide"
    }
   },
   "outputs": [],
   "source": [
    "def model(theta, x):\n",
    "    \"\"\"\n",
    "    apply linear model\n",
    "    \"\"\"\n",
    "    m, c = theta\n",
    "    return m * x + c\n",
    "\n",
    "\n",
    "def get_data(n):\n",
    "    \"\"\"\n",
    "    return n draws from a linear function\n",
    "    \"\"\"\n",
    "    m, c = 2.4, 5.9\n",
    "    x = [rd.random() * 10 for i in range(n)]\n",
    "    return x, list(map(lambda xi: model((m, c), xi) + rd.normal(), x))"
   ]
  },
  {
   "cell_type": "code",
   "execution_count": 38,
   "metadata": {
    "slideshow": {
     "slide_type": "subslide"
    }
   },
   "outputs": [
    {
     "data": {
      "text/plain": [
       "[<matplotlib.lines.Line2D at 0x1213a0b38>]"
      ]
     },
     "execution_count": 38,
     "metadata": {},
     "output_type": "execute_result"
    },
    {
     "data": {
      "image/png": "[encoded data removed]",
      "text/plain": [
       "<Figure size 720x432 with 1 Axes>"
      ]
     },
     "metadata": {
      "image/png": {
       "height": 358,
       "width": 593
      }
     },
     "output_type": "display_data"
    }
   ],
   "source": [
    "x, y = get_data(100)\n",
    "plt.plot(x, y, '.')"
   ]
  },
  {
   "cell_type": "code",
   "execution_count": 39,
   "metadata": {
    "slideshow": {
     "slide_type": "subslide"
    }
   },
   "outputs": [],
   "source": [
    "def err(theta, x, y):\n",
    "    return y - model(theta, x)\n",
    "\n",
    "\n",
    "def grad(theta, x, y):\n",
    "    \"\"\"\n",
    "    compute the gradient of the loss function\n",
    "    over all data\n",
    "    \"\"\"\n",
    "    N = len(x)\n",
    "    e = [err(theta, xi, yi) for xi, yi in zip(x, y)]\n",
    "    c_g = sum(-2 / N * ei for ei in e)\n",
    "    m_g = sum(-2 / N * ei * xi for ei, xi in zip(e, x))\n",
    "\n",
    "    return [m_g, c_g]"
   ]
  },
  {
   "cell_type": "code",
   "execution_count": 40,
   "metadata": {
    "slideshow": {
     "slide_type": "subslide"
    }
   },
   "outputs": [],
   "source": [
    "def sgd_step(x, y, theta):\n",
    "    \"\"\"\n",
    "    take a single gradient step\n",
    "    \"\"\"\n",
    "    lr = 0.001\n",
    "    m, c = theta\n",
    "    m_g, c_g = grad(theta, x, y)\n",
    "    m_ = m - lr * m_g\n",
    "    c_ = c - lr * c_g\n",
    "    return [m_, c_]"
   ]
  },
  {
   "cell_type": "code",
   "execution_count": 41,
   "metadata": {
    "slideshow": {
     "slide_type": "subslide"
    }
   },
   "outputs": [],
   "source": [
    "def until_convergence(it, eq=lambda x: x[0] != x[1]):\n",
    "    \"\"\"\n",
    "    takes a (potentially infinite) iterator and returns the\n",
    "    first value at which it repeats itself.\n",
    "    zips the iterator to its own tail and the moves through it\n",
    "    looking for equal pairs\n",
    "    \"\"\"\n",
    "    it2 = tz.drop(1, it)\n",
    "    pairs = zip(it, it2)\n",
    "    return tz.first(itertools.dropwhile(eq, pairs))[0]"
   ]
  },
  {
   "cell_type": "code",
   "execution_count": 42,
   "metadata": {
    "slideshow": {
     "slide_type": "subslide"
    }
   },
   "outputs": [],
   "source": [
    "def sgd(theta, x, y):\n",
    "    \"\"\"\n",
    "    continue taking grad steps until conevrgence, ie. until grad == 0\n",
    "    \"\"\"\n",
    "    step = tz.curry(sgd_step)(x)(y)\n",
    "    converge = lambda x: abs(sum(map(sub, x[0], x[1]))) > 1e-5\n",
    "    return until_convergence(tz.iterate(step, theta), converge)"
   ]
  },
  {
   "cell_type": "code",
   "execution_count": 43,
   "metadata": {
    "slideshow": {
     "slide_type": "subslide"
    }
   },
   "outputs": [
    {
     "data": {
      "text/plain": [
       "[<matplotlib.lines.Line2D at 0x1220d3588>]"
      ]
     },
     "execution_count": 43,
     "metadata": {},
     "output_type": "execute_result"
    },
    {
     "data": {
      "image/png": "[encoded data removed]",
      "text/plain": [
       "<Figure size 720x432 with 1 Axes>"
      ]
     },
     "metadata": {
      "image/png": {
       "height": 358,
       "width": 593
      }
     },
     "output_type": "display_data"
    }
   ],
   "source": [
    "m, c = sgd((1, 1), x, y)\n",
    "plt.plot(x, y, '.')\n",
    "plt.plot(x, [m*xi + c for xi in x])"
   ]
  },
  {
   "cell_type": "markdown",
   "metadata": {
    "slideshow": {
     "slide_type": "slide"
    }
   },
   "source": [
    "<center>\n",
    "<H1>Example II</H1>\n",
    "</center>"
   ]
  },
  {
   "cell_type": "code",
   "execution_count": 28,
   "metadata": {
    "slideshow": {
     "slide_type": "skip"
    }
   },
   "outputs": [],
   "source": [
    "from glob import glob\n",
    "import random "
   ]
  },
  {
   "cell_type": "code",
   "execution_count": 29,
   "metadata": {
    "slideshow": {
     "slide_type": "subslide"
    }
   },
   "outputs": [
    {
     "data": {
      "text/plain": [
       "['lyrics/billboard/love_takes_time.txt',\n",
       " 'lyrics/billboard/patience.txt',\n",
       " 'lyrics/billboard/cars.txt',\n",
       " 'lyrics/billboard/when_a_man_loves_a_woman.txt',\n",
       " 'lyrics/billboard/how_can_i_fall.txt',\n",
       " 'lyrics/billboard/dont_forget_about_us.txt',\n",
       " 'lyrics/billboard/heartbeat_song.txt',\n",
       " 'lyrics/billboard/if.txt',\n",
       " 'lyrics/billboard/im_your_baby_tonight.txt',\n",
       " 'lyrics/billboard/love_never_felt_so_good.txt',\n",
       " 'lyrics/billboard/shake_shake_shake_shake_your_booty.txt',\n",
       " 'lyrics/billboard/youre_makin_me_high__let_it_flow.txt',\n",
       " 'lyrics/billboard/we_will_rock_youwe_are_the_champions.txt',\n",
       " 'lyrics/billboard/cherchez_la_femme.txt',\n",
       " 'lyrics/billboard/judy_in_disguise_with_glasses.txt',\n",
       " 'lyrics/billboard/hotel_california.txt',\n",
       " 'lyrics/billboard/whatcha_say.txt',\n",
       " 'lyrics/billboard/green_river.txt',\n",
       " 'lyrics/billboard/jojo.txt',\n",
       " 'lyrics/billboard/breakout.txt']"
      ]
     },
     "execution_count": 29,
     "metadata": {},
     "output_type": "execute_result"
    }
   ],
   "source": [
    "random.sample(glob('lyrics/billboard/*'), 20)"
   ]
  },
  {
   "cell_type": "code",
   "execution_count": 30,
   "metadata": {
    "slideshow": {
     "slide_type": "skip"
    }
   },
   "outputs": [],
   "source": [
    "from string import punctuation\n",
    "from collections import defaultdict\n",
    "punc = str.maketrans({p:None for p in punctuation})"
   ]
  },
  {
   "cell_type": "code",
   "execution_count": 31,
   "metadata": {
    "slideshow": {
     "slide_type": "subslide"
    }
   },
   "outputs": [
    {
     "data": {
      "text/plain": [
       "[('that', 14231),\n",
       " ('your', 13709),\n",
       " ('love', 13204),\n",
       " ('dont', 10315),\n",
       " ('know', 9993),\n",
       " ('like', 9597),\n",
       " ('just', 8528),\n",
       " ('with', 8173),\n",
       " ('baby', 7913),\n",
       " ('what', 7140)]"
      ]
     },
     "execution_count": 31,
     "metadata": {},
     "output_type": "execute_result"
    }
   ],
   "source": [
    "def wordcount_imp(directory):\n",
    "\n",
    "    d = defaultdict(int)\n",
    "    for f in glob(directory):\n",
    "        for line in open(f, 'r'):\n",
    "            line = line.split()\n",
    "            line = [w.lower().translate(punc) for w in line]\n",
    "            for s in line:\n",
    "                d[s] += 1\n",
    "\n",
    "    return {k:d[k] for k in d.keys() if len(k) >= 4}\n",
    "    \n",
    "words = wordcount_imp('lyrics/billboard/*')\n",
    "sorted(words.items(), key=lambda x: x[1], reverse=True)[:10]"
   ]
  },
  {
   "cell_type": "code",
   "execution_count": 32,
   "metadata": {
    "slideshow": {
     "slide_type": "subslide"
    }
   },
   "outputs": [],
   "source": [
    "from toolz.curried import mapcat, frequencies, keyfilter, map\n",
    "\n",
    "def stem(word: str) -> str:\n",
    "    return word.lower().translate(punc)\n",
    "\n",
    "def drop_word(word: str) -> bool:\n",
    "    return len(word) >= 4\n",
    "\n",
    "def freqs(items: List) -> dict:\n",
    "    d = defaultdict(int)\n",
    "    for i in items:\n",
    "        d[i] += 1\n",
    "    return d\n",
    "    \n",
    "workflow = (glob,\n",
    "            mapcat(open),\n",
    "            mapcat(str.split),\n",
    "            map(stem),\n",
    "            freqs,\n",
    "            keyfilter(drop_word))\n",
    "\n",
    "wordcount_f = compose(*reversed(workflow))\n",
    "words = wordcount_f('lyrics/billboard/*')"
   ]
  },
  {
   "cell_type": "code",
   "execution_count": 33,
   "metadata": {
    "slideshow": {
     "slide_type": "subslide"
    }
   },
   "outputs": [],
   "source": [
    "from toolz.dicttoolz import merge_with, valmap\n",
    "\n",
    "billboard = wordcount_f('lyrics/billboard/*')\n",
    "dylan = wordcount_f('lyrics/dylan/*')\n",
    "\n",
    "m = merge_with(sum, valmap(lambda x: x / sum(dylan.values()), dylan),\n",
    "                    valmap(lambda x: -x / sum(billboard.values()), billboard))"
   ]
  },
  {
   "cell_type": "code",
   "execution_count": 34,
   "metadata": {
    "slideshow": {
     "slide_type": "skip"
    }
   },
   "outputs": [],
   "source": [
    "def col_print(l, cols=5, width=12):\n",
    "\n",
    "        group = zip(*[l[i::cols] for i in range(cols)])\n",
    "        for row in group:\n",
    "                print(''.join(word.ljust(width) for word in row))"
   ]
  },
  {
   "cell_type": "code",
   "execution_count": 35,
   "metadata": {
    "slideshow": {
     "slide_type": "subslide"
    }
   },
   "outputs": [
    {
     "name": "stdout",
     "output_type": "stream",
     "text": [
      "\n",
      "Dylan:\n",
      "hand        more        gone        many        woman       \n",
      "blues       poor        wind        looked      them        \n",
      "long        train       river       broken      home        \n",
      "behind      hard        says        might       mama        \n",
      "people      lonesome    theres      town        door        \n",
      "will        must        dead        road        their       \n",
      "went        been        said        lord        where       \n",
      "there       from        down        they        well        \n",
      "\n",
      "Billboard:\n",
      "love        yeah        baby        know        want        \n",
      "cause       dont        like        girl        wanna       \n",
      "make        this        what        need        right       \n",
      "your        take        feel        youre       just        \n",
      "give        life        cant        gotta       lets        \n",
      "thats       dance       really      keep        stop        \n",
      "real        never       time        good        think       \n",
      "heart       show        shit        wont        hold        \n"
     ]
    }
   ],
   "source": [
    "print('\\nDylan:')\n",
    "col_print(sorted(m, key=m.get)[-40:])\n",
    "print('\\nBillboard:')\n",
    "col_print(sorted(m, key=m.get)[:40])"
   ]
  },
  {
   "cell_type": "markdown",
   "metadata": {
    "slideshow": {
     "slide_type": "slide"
    }
   },
   "source": [
    "![contact](img/contact-card.png)"
   ]
  }
 ],
 "metadata": {
  "celltoolbar": "Slideshow",
  "kernelspec": {
   "display_name": "Python 3",
   "language": "python",
   "name": "python3"
  },
  "language_info": {
   "codemirror_mode": {
    "name": "ipython",
    "version": 3
   },
   "file_extension": ".py",
   "mimetype": "text/x-python",
   "name": "python",
   "nbconvert_exporter": "python",
   "pygments_lexer": "ipython3",
   "version": "3.7.0"
  }
 },
 "nbformat": 4,
 "nbformat_minor": 2
}
