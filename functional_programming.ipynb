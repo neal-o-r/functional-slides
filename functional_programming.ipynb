{
 "cells": [
  {
   "cell_type": "markdown",
   "metadata": {
    "slideshow": {
     "slide_type": "slide"
    }
   },
   "source": [
    "# Funtional Programming for Data Science (in Python)\n",
    "---\n",
    "PyData Dublin, 17$^\\mathsf{th}$ May 2018\n",
    "\n",
    "Neal Ó Riain"
   ]
  },
  {
   "cell_type": "markdown",
   "metadata": {
    "slideshow": {
     "slide_type": "slide"
    }
   },
   "source": [
    "# ``` $ whoami```\n",
    "---\n",
    "\n",
    "<img src=\"imgs/me.jpg\" width=\"35%\" align=\"right\"> \n",
    " \n",
    " * Former Astrophysicist (🔭, 🚀, 🌝)\n",
    " \n",
    " \n",
    "<br> \n",
    " \n",
    " \n",
    " * Current Data Scientist at Amazon.\n",
    " \n",
    " <br> \n",
    " \n",
    " \n",
    " * ((Semi-) Pragmatic) Functional Programmer."
   ]
  },
  {
   "cell_type": "markdown",
   "metadata": {
    "slideshow": {
     "slide_type": "slide"
    }
   },
   "source": [
    "# Outline\n",
    "---\n",
    "\n",
    "* What is FP and why would I use it?\n",
    " \n",
    " \n",
    "<br> \n",
    " \n",
    "* Some FP primitives in Python\n",
    "\n",
    "<br> \n",
    " \n",
    "* Example\n",
    "\n"
   ]
  },
  {
   "cell_type": "markdown",
   "metadata": {
    "slideshow": {
     "slide_type": "slide"
    }
   },
   "source": [
    "<center>\n",
    "<H1> What is a Functional Programming? <H1>\n",
    "</center>"
   ]
  },
  {
   "cell_type": "markdown",
   "metadata": {
    "slideshow": {
     "slide_type": "slide"
    }
   },
   "source": [
    "```C\n",
    "#include <stdio.h>\n",
    "\n",
    "main()\n",
    "{\n",
    "        printf(\"hello, world\\n\");\n",
    "}\n",
    "```"
   ]
  },
  {
   "cell_type": "markdown",
   "metadata": {
    "slideshow": {
     "slide_type": "subslide"
    }
   },
   "source": [
    "<center>\n",
    "<font size=\"6\">$\\lambda f . (\\lambda z\\,. f (z\\;z)) (\\lambda z\\,. f(z \\; z))$</font>\n",
    "</center>"
   ]
  },
  {
   "cell_type": "markdown",
   "metadata": {
    "slideshow": {
     "slide_type": "subslide"
    }
   },
   "source": [
    "<center>\n",
    "<img src=\"imgs/Alonzo_Church.jpg\" width=\"50%\">\n",
    "</center>"
   ]
  },
  {
   "cell_type": "markdown",
   "metadata": {
    "collapsed": true,
    "slideshow": {
     "slide_type": "subslide"
    }
   },
   "source": [
    "<center>\n",
    "<img src=\"imgs/turing_machine.jpg\" width=\"90%\">\n",
    "</center>"
   ]
  },
  {
   "cell_type": "markdown",
   "metadata": {
    "slideshow": {
     "slide_type": "slide"
    }
   },
   "source": [
    "```C\n",
    "static void release_callchain_buffers_rcu(struct rcu_head *head)\n",
    "{\n",
    "\tstruct callchain_cpus_entries *entries;\n",
    "\tint cpu;\n",
    "\n",
    "\tentries = container_of(head, struct callchain_cpus_entries, rcu_head);\n",
    "\n",
    "\tfor_each_possible_cpu(cpu)\n",
    "\t\tkfree(entries->cpu_entries[cpu]);\n",
    "\n",
    "\tkfree(entries);\n",
    "}\n",
    "\n",
    "static void release_callchain_buffers(void)\n",
    "{\n",
    "\tstruct callchain_cpus_entries *entries;\n",
    "\n",
    "\tentries = callchain_cpus_entries;\n",
    "\tRCU_INIT_POINTER(callchain_cpus_entries, NULL);\n",
    "\tcall_rcu(&entries->rcu_head, release_callchain_buffers_rcu);\n",
    "}\n",
    "\n",
    "```"
   ]
  },
  {
   "cell_type": "markdown",
   "metadata": {
    "slideshow": {
     "slide_type": "slide"
    }
   },
   "source": [
    "<center>\n",
    "<h2>Immutability</h2>\n",
    "</center>"
   ]
  },
  {
   "cell_type": "markdown",
   "metadata": {
    "slideshow": {
     "slide_type": "fragment"
    }
   },
   "source": [
    "<center>\n",
    "<h2>Algebraic Types</h2>\n",
    "</center>"
   ]
  },
  {
   "cell_type": "markdown",
   "metadata": {
    "slideshow": {
     "slide_type": "fragment"
    }
   },
   "source": [
    "<center>\n",
    "<h2>Purity</h2>\n",
    "</center>"
   ]
  },
  {
   "cell_type": "markdown",
   "metadata": {
    "slideshow": {
     "slide_type": "fragment"
    }
   },
   "source": [
    "<center>\n",
    "<h2>Higher-order functions</h2>\n",
    "</center>"
   ]
  },
  {
   "cell_type": "markdown",
   "metadata": {
    "slideshow": {
     "slide_type": "slide"
    }
   },
   "source": [
    "# Why?\n",
    "---\n",
    "\n",
    "* Less code\n",
    "\n",
    "<br>\n",
    "\n",
    "* Clear code\n",
    "\n",
    "<br>\n",
    "\n",
    "* Efficient code\n",
    "\n",
    "<br>\n",
    "\n",
    "* Safe code\n"
   ]
  },
  {
   "cell_type": "markdown",
   "metadata": {
    "slideshow": {
     "slide_type": "slide"
    }
   },
   "source": []
  }
 ],
 "metadata": {
  "celltoolbar": "Slideshow",
  "kernelspec": {
   "display_name": "Python 3",
   "language": "python",
   "name": "python3"
  },
  "language_info": {
   "codemirror_mode": {
    "name": "ipython",
    "version": 3
   },
   "file_extension": ".py",
   "mimetype": "text/x-python",
   "name": "python",
   "nbconvert_exporter": "python",
   "pygments_lexer": "ipython3",
   "version": "3.6.4"
  }
 },
 "nbformat": 4,
 "nbformat_minor": 2
}
