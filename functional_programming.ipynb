{
 "cells": [
  {
   "cell_type": "markdown",
   "metadata": {
    "slideshow": {
     "slide_type": "slide"
    }
   },
   "source": [
    "# Funtional Programming for Data Science\n",
    "---\n",
    "PyData Dublin, 30$^\\mathsf{th}$ August 2018\n",
    "\n",
    "Neal Ó Riain"
   ]
  },
  {
   "cell_type": "markdown",
   "metadata": {
    "slideshow": {
     "slide_type": "slide"
    }
   },
   "source": [
    "# ``` $ whoami```\n",
    "---\n",
    "\n",
    "<img src=\"imgs/me.jpg\" width=\"35%\" align=\"right\"> \n",
    " \n",
    " * Former Astrophysicist (🔭, 🚀, 🌝)\n",
    " \n",
    " \n",
    "<br> \n",
    " \n",
    " \n",
    " * Current Data Scientist at Amazon.\n",
    " \n",
    " <br> \n",
    " \n",
    " \n",
    " * ((Semi-) Pragmatic) Functional Programmer."
   ]
  },
  {
   "cell_type": "markdown",
   "metadata": {
    "slideshow": {
     "slide_type": "slide"
    }
   },
   "source": [
    "# Outline\n",
    "---\n",
    "\n",
    "* What is FP and why would I use it?\n",
    " \n",
    " \n",
    "<br> \n",
    " \n",
    "* Some FP primitives in Python\n",
    "\n",
    "<br> \n",
    " \n",
    "* Example\n",
    "\n"
   ]
  },
  {
   "cell_type": "markdown",
   "metadata": {
    "slideshow": {
     "slide_type": "slide"
    }
   },
   "source": [
    "<center>\n",
    "<H1> What is Functional Programming? <H1>\n",
    "</center>"
   ]
  },
  {
   "cell_type": "markdown",
   "metadata": {
    "slideshow": {
     "slide_type": "slide"
    }
   },
   "source": [
    "<center>\n",
    "<H1> What is a <em>Function</em>? <H1>\n",
    "</center>"
   ]
  },
  {
   "cell_type": "markdown",
   "metadata": {
    "slideshow": {
     "slide_type": "subslide"
    }
   },
   "source": [
    "```C\n",
    "#include <stdio.h>\n",
    "\n",
    "main()\n",
    "{\n",
    "        printf(\"hello, world\\n\");\n",
    "}\n",
    "```"
   ]
  },
  {
   "cell_type": "markdown",
   "metadata": {
    "slideshow": {
     "slide_type": "subslide"
    }
   },
   "source": [
    "<center>\n",
    "<H1>Structured Programming<H1>\n",
    "</center>"
   ]
  },
  {
   "cell_type": "markdown",
   "metadata": {
    "slideshow": {
     "slide_type": "subslide"
    }
   },
   "source": [
    "# Structured Data\n",
    "\n",
    "![combine](imgs/data-structures.png)"
   ]
  },
  {
   "cell_type": "markdown",
   "metadata": {
    "slideshow": {
     "slide_type": "subslide"
    }
   },
   "source": [
    "# Structured Code"
   ]
  },
  {
   "cell_type": "markdown",
   "metadata": {
    "slideshow": {
     "slide_type": "fragment"
    }
   },
   "source": [
    "```python\n",
    "def problem():\n",
    "    s1 = sub_problem1()\n",
    "    s2 = sub_problem2()\n",
    "    return s1 + s2\n",
    "\n",
    "def sub_problem1():\n",
    "    \n",
    "def sub_problem2():\n",
    "    \n",
    "def sub_sub_problem1():\n",
    "```"
   ]
  },
  {
   "cell_type": "markdown",
   "metadata": {
    "slideshow": {
     "slide_type": "subslide"
    }
   },
   "source": [
    "<center>\n",
    "<H1>Modularity!<H1>\n",
    "</center>"
   ]
  },
  {
   "cell_type": "markdown",
   "metadata": {
    "slideshow": {
     "slide_type": "fragment"
    }
   },
   "source": [
    "<center>\n",
    "Re-usable\n",
    "</center>"
   ]
  },
  {
   "cell_type": "markdown",
   "metadata": {
    "slideshow": {
     "slide_type": "fragment"
    }
   },
   "source": [
    "<center>\n",
    "Easier to code\n",
    "</center>"
   ]
  },
  {
   "cell_type": "markdown",
   "metadata": {
    "slideshow": {
     "slide_type": "fragment"
    }
   },
   "source": [
    "<center>\n",
    "Debug-able\n",
    "</center>"
   ]
  },
  {
   "cell_type": "markdown",
   "metadata": {
    "slideshow": {
     "slide_type": "subslide"
    }
   },
   "source": [
    "```python\n",
    "def problem():\n",
    "    s1 = sub_problem1()\n",
    "    s2 = sub_problem2()\n",
    "    return s1 + s2\n",
    "\n",
    "def sub_problem1():\n",
    "    \n",
    "def sub_problem2():\n",
    "    \n",
    "def sub_sub_problem1():\n",
    "```"
   ]
  },
  {
   "cell_type": "markdown",
   "metadata": {
    "slideshow": {
     "slide_type": "subslide"
    }
   },
   "source": [
    "<center>\n",
    "<img src=\"imgs/glue.jpg\" width=\"500px\">\n",
    "</center>"
   ]
  },
  {
   "cell_type": "markdown",
   "metadata": {
    "slideshow": {
     "slide_type": "slide"
    }
   },
   "source": [
    "# Glue\n",
    "---\n",
    "\n",
    "* Purity\n",
    "\n",
    "<br>\n",
    "\n",
    "* Laziness\n",
    "\n",
    "<br>\n",
    "\n",
    "* Higher Order Fucntions\n"
   ]
  },
  {
   "cell_type": "markdown",
   "metadata": {
    "slideshow": {
     "slide_type": "slide"
    }
   },
   "source": [
    "<center>\n",
    "<h2>FP in Python</h2>\n",
    "</center>"
   ]
  },
  {
   "cell_type": "markdown",
   "metadata": {
    "slideshow": {
     "slide_type": "slide"
    }
   },
   "source": [
    "<center>\n",
    "<h2>Purity</h2>\n",
    "</center>"
   ]
  },
  {
   "cell_type": "code",
   "execution_count": 86,
   "metadata": {
    "slideshow": {
     "slide_type": "subslide"
    }
   },
   "outputs": [],
   "source": [
    "flag = True\n",
    "\n",
    "def not_pure(x):\n",
    "    if flag:\n",
    "        return x / 10\n",
    "    return x * 10"
   ]
  },
  {
   "cell_type": "code",
   "execution_count": 87,
   "metadata": {
    "slideshow": {
     "slide_type": "fragment"
    }
   },
   "outputs": [],
   "source": [
    "def not_pure_either(x):\n",
    "    with open('test.txt',) as f:\n",
    "        return f.read()"
   ]
  },
  {
   "cell_type": "code",
   "execution_count": 88,
   "metadata": {
    "slideshow": {
     "slide_type": "fragment"
    }
   },
   "outputs": [
    {
     "name": "stdout",
     "output_type": "stream",
     "text": [
      "[5, 10, 15]\n",
      "[5, 10, 15]\n"
     ]
    }
   ],
   "source": [
    "data = [1, 2, 3]\n",
    "scale = 5\n",
    "\n",
    "def also_bad(L):\n",
    "    for i in range(len(L)):\n",
    "        L[i] = L[i] * scale\n",
    "    return L\n",
    "\n",
    "result = also_bad(data)\n",
    "print(result)\n",
    "print(data)"
   ]
  },
  {
   "cell_type": "code",
   "execution_count": 78,
   "metadata": {
    "slideshow": {
     "slide_type": "slide"
    }
   },
   "outputs": [
    {
     "data": {
      "text/plain": [
       "[1, 3, 6, 10]"
      ]
     },
     "execution_count": 78,
     "metadata": {},
     "output_type": "execute_result"
    }
   ],
   "source": [
    "def cumulative(lst):    \n",
    "    c = lst[0]\n",
    "    out = [c]\n",
    "    for item in lst[1:]:\n",
    "        c += item\n",
    "        out.append(c)\n",
    "        \n",
    "    return out\n",
    "    \n",
    "cumulative([1, 2, 3, 4])"
   ]
  },
  {
   "cell_type": "code",
   "execution_count": 56,
   "metadata": {
    "slideshow": {
     "slide_type": "fragment"
    }
   },
   "outputs": [
    {
     "data": {
      "text/plain": [
       "['1', '12', '123', '1234']"
      ]
     },
     "execution_count": 56,
     "metadata": {},
     "output_type": "execute_result"
    }
   ],
   "source": [
    "cumulative(['1', '2', '3', '4'])"
   ]
  },
  {
   "cell_type": "code",
   "execution_count": 61,
   "metadata": {
    "slideshow": {
     "slide_type": "slide"
    }
   },
   "outputs": [],
   "source": [
    "from typing import List\n",
    "\n",
    "Vector = List[int]\n",
    "\n",
    "def cumulative(lst: Vector) -> Vector:    \n",
    "    c = lst[0]\n",
    "    out = [c]\n",
    "    for item in lst[1:]:\n",
    "        c += item\n",
    "        out.append(c)\n",
    "        \n",
    "    return out"
   ]
  },
  {
   "cell_type": "code",
   "execution_count": 62,
   "metadata": {
    "slideshow": {
     "slide_type": "fragment"
    }
   },
   "outputs": [
    {
     "data": {
      "text/plain": [
       "['1', '12', '123', '1234']"
      ]
     },
     "execution_count": 62,
     "metadata": {},
     "output_type": "execute_result"
    }
   ],
   "source": [
    "cumulative(['1', '2', '3', '4'])"
   ]
  },
  {
   "cell_type": "markdown",
   "metadata": {
    "slideshow": {
     "slide_type": "subslide"
    }
   },
   "source": [
    "```sh\n",
    "$ mypy cumulative.py\n",
    "cumulative.py:14: error: List item 0 has incompatible type \"str\"; expected \"int\"\n",
    "cumulative.py:14: error: List item 1 has incompatible type \"str\"; expected \"int\"\n",
    "cumulative.py:14: error: List item 2 has incompatible type \"str\"; expected \"int\"\n",
    "cumulative.py:14: error: List item 3 has incompatible type \"str\"; expected \"int\"\n",
    "```"
   ]
  },
  {
   "cell_type": "code",
   "execution_count": 89,
   "metadata": {
    "slideshow": {
     "slide_type": "skip"
    }
   },
   "outputs": [
    {
     "data": {
      "text/plain": [
       "[1, 3, 6, 10]"
      ]
     },
     "execution_count": 89,
     "metadata": {},
     "output_type": "execute_result"
    }
   ],
   "source": [
    "def cumulative_recursive(lst: Vector) -> Vector:\n",
    "    if len(lst) == 1:\n",
    "        return lst\n",
    "    return cumulative(lst[:-1]) + [sum(lst)]\n",
    "\n",
    "cumulative_recursive([1, 2, 3, 4])"
   ]
  },
  {
   "cell_type": "markdown",
   "metadata": {
    "slideshow": {
     "slide_type": "slide"
    }
   },
   "source": [
    "<center>\n",
    "    <H1> Higher Order Functions</H1>\n",
    "</center>"
   ]
  },
  {
   "cell_type": "code",
   "execution_count": 7,
   "metadata": {
    "slideshow": {
     "slide_type": "slide"
    }
   },
   "outputs": [
    {
     "name": "stdout",
     "output_type": "stream",
     "text": [
      "['Alice', 'Bob', 'Eve']\n"
     ]
    }
   ],
   "source": [
    "names = ['alice', 'bob', 'eve'] \n",
    "\n",
    "capitalised = []\n",
    "for name in names:\n",
    "    capitalised.append(str.capitalize(name))\n",
    "\n",
    "print(capitalised)"
   ]
  },
  {
   "cell_type": "markdown",
   "metadata": {
    "slideshow": {
     "slide_type": "subslide"
    }
   },
   "source": [
    "```python\n",
    "data = [values] \n",
    "\n",
    "output = []\n",
    "for value in data:\n",
    "        output.append(function(value))\n",
    "```"
   ]
  },
  {
   "cell_type": "markdown",
   "metadata": {
    "slideshow": {
     "slide_type": "subslide"
    }
   },
   "source": [
    "<center>\n",
    "<pre>loop_and_append(function, data)</pre>\n",
    "</center>"
   ]
  },
  {
   "cell_type": "markdown",
   "metadata": {
    "slideshow": {
     "slide_type": "fragment"
    }
   },
   "source": [
    "<center>\n",
    "$g(f,\\;[x_1, \\dots, x_n]) \\rightarrow [f(x_1), \\dots, f(x_n)]$\n",
    "</center>"
   ]
  },
  {
   "cell_type": "code",
   "execution_count": 79,
   "metadata": {
    "slideshow": {
     "slide_type": "subslide"
    }
   },
   "outputs": [
    {
     "data": {
      "text/plain": [
       "['Alice', 'Bob', 'Eve']"
      ]
     },
     "execution_count": 79,
     "metadata": {},
     "output_type": "execute_result"
    }
   ],
   "source": [
    "\n",
    "list(map(str.capitalize, ['alice', 'bob', 'eve']))\n"
   ]
  },
  {
   "cell_type": "markdown",
   "metadata": {
    "slideshow": {
     "slide_type": "slide"
    }
   },
   "source": [
    "# Reductions\n",
    "\n",
    "\n",
    "<center>\n",
    "$g(f,\\; [x_1, x_2, x_3],\\;i) \\rightarrow f(i,\\;f(x_1,\\;f(x_2,\\;x_3)))$\n",
    "</center>"
   ]
  },
  {
   "cell_type": "code",
   "execution_count": 10,
   "metadata": {
    "slideshow": {
     "slide_type": "subslide"
    }
   },
   "outputs": [
    {
     "data": {
      "text/plain": [
       "10"
      ]
     },
     "execution_count": 10,
     "metadata": {},
     "output_type": "execute_result"
    }
   ],
   "source": [
    "from functools import reduce\n",
    "from operator import add\n",
    "\n",
    "reduce(add, [1, 2, 3, 4], 0) #sum"
   ]
  },
  {
   "cell_type": "code",
   "execution_count": 25,
   "metadata": {
    "slideshow": {
     "slide_type": "subslide"
    }
   },
   "outputs": [
    {
     "data": {
      "text/plain": [
       "24"
      ]
     },
     "execution_count": 25,
     "metadata": {},
     "output_type": "execute_result"
    }
   ],
   "source": [
    "from functools import reduce\n",
    "from operator import mul\n",
    "\n",
    "reduce(mul, [1, 2, 3, 4], 1) #factorial"
   ]
  },
  {
   "cell_type": "code",
   "execution_count": 26,
   "metadata": {
    "slideshow": {
     "slide_type": "subslide"
    }
   },
   "outputs": [
    {
     "data": {
      "text/plain": [
       "40"
      ]
     },
     "execution_count": 26,
     "metadata": {},
     "output_type": "execute_result"
    }
   ],
   "source": [
    "from functools import reduce\n",
    "from operator import mul, add\n",
    "\n",
    "reduce(add, map(mul, [1, 2, 3, 4], [2, 3, 4, 5])) #dot product"
   ]
  },
  {
   "cell_type": "markdown",
   "metadata": {
    "slideshow": {
     "slide_type": "subslide"
    }
   },
   "source": [
    "# Filtering\n",
    "\n",
    "<br>\n",
    "\n",
    "```python\n",
    "data = [values] \n",
    "\n",
    "output = []\n",
    "for value in data:\n",
    "    if predicate(value):\n",
    "        output.append(value)\n",
    "```"
   ]
  },
  {
   "cell_type": "code",
   "execution_count": 29,
   "metadata": {
    "slideshow": {
     "slide_type": "fragment"
    }
   },
   "outputs": [
    {
     "data": {
      "text/plain": [
       "[57, 41, 92, 84]"
      ]
     },
     "execution_count": 29,
     "metadata": {},
     "output_type": "execute_result"
    }
   ],
   "source": [
    "\n",
    "list(filter(lambda x: x > 10, [2, 57, 41, 5, 92, 84, 2.3]))"
   ]
  },
  {
   "cell_type": "markdown",
   "metadata": {
    "slideshow": {
     "slide_type": "slide"
    }
   },
   "source": [
    "# Currying\n",
    "\n",
    "<center>\n",
    "$f(x, y, x) \\rightarrow f(x)(y)(z)$\n",
    "</center>"
   ]
  },
  {
   "cell_type": "code",
   "execution_count": 30,
   "metadata": {
    "slideshow": {
     "slide_type": "subslide"
    }
   },
   "outputs": [
    {
     "name": "stdout",
     "output_type": "stream",
     "text": [
      "60\n"
     ]
    }
   ],
   "source": [
    "from toolz import curry\n",
    "\n",
    "def add_and_scale(x, y, z):\n",
    "    return (x + y) * z\n",
    "\n",
    "add_and_scale = curry(add_and_scale)\n",
    "\n",
    "add_10yz = add_and_scale(10)\n",
    "\n",
    "add_10_20_z = add_10yz(20)\n",
    "\n",
    "print(add_10_20_z(2))"
   ]
  },
  {
   "cell_type": "markdown",
   "metadata": {
    "slideshow": {
     "slide_type": "slide"
    }
   },
   "source": [
    "<center>\n",
    "<h2>Laziness</h2>\n",
    "</center>"
   ]
  },
  {
   "cell_type": "markdown",
   "metadata": {
    "slideshow": {
     "slide_type": "subslide"
    }
   },
   "source": [
    "```python\n",
    "for char in 'python':\n",
    "    \n",
    "for value in [1, 2, 3, 4]:\n",
    "\n",
    "for key in {'A': 1, 'B': 2}:\n",
    "```\n"
   ]
  },
  {
   "cell_type": "code",
   "execution_count": 44,
   "metadata": {
    "slideshow": {
     "slide_type": "subslide"
    }
   },
   "outputs": [
    {
     "name": "stdout",
     "output_type": "stream",
     "text": [
      "0\n",
      "1\n",
      "2\n",
      "3\n"
     ]
    }
   ],
   "source": [
    "def numbers():\n",
    "    x = 0 \n",
    "    while True:\n",
    "        yield x\n",
    "        x += 1\n",
    "        \n",
    "n = numbers()\n",
    "\n",
    "print(next(n))\n",
    "print(next(n))\n",
    "print(next(n))\n",
    "print(next(n))"
   ]
  },
  {
   "cell_type": "code",
   "execution_count": 9,
   "metadata": {
    "slideshow": {
     "slide_type": "subslide"
    }
   },
   "outputs": [
    {
     "data": {
      "text/plain": [
       "True"
      ]
     },
     "execution_count": 9,
     "metadata": {},
     "output_type": "execute_result"
    }
   ],
   "source": [
    "def newton(n, a=2, steps=10):\n",
    "    for i in range(steps):\n",
    "        a = (a + n/a)/2\n",
    "    return a\n",
    "\n",
    "def newton_recur(n, a=2, i=0, steps=10):\n",
    "    if i == steps:\n",
    "        return a\n",
    "    return newton_recur(n, a=(a + n/a)/2, i=i+1)\n",
    "\n",
    "newton(10)"
   ]
  },
  {
   "cell_type": "code",
   "execution_count": 55,
   "metadata": {
    "slideshow": {
     "slide_type": "fragment"
    }
   },
   "outputs": [
    {
     "data": {
      "text/plain": [
       "3.162277660168379"
      ]
     },
     "execution_count": 55,
     "metadata": {},
     "output_type": "execute_result"
    }
   ],
   "source": [
    "from toolz import curry, nth, iterate\n",
    "\n",
    "def newton_f(n, guess=2, step=10):\n",
    "    next_step = lambda n, a: (a + n/a)/2\n",
    "    next10 = curry(next_step, n)\n",
    "    return nth(step, iterate(next10, guess))\n",
    "\n",
    "newton_f(10)"
   ]
  },
  {
   "cell_type": "markdown",
   "metadata": {
    "slideshow": {
     "slide_type": "slide"
    }
   },
   "source": [
    "<center>\n",
    "<H1>Example</H1>\n",
    "</center>"
   ]
  },
  {
   "cell_type": "code",
   "execution_count": null,
   "metadata": {},
   "outputs": [],
   "source": [
    "from glob import glob\n",
    "import random \n"
   ]
  },
  {
   "cell_type": "code",
   "execution_count": 38,
   "metadata": {
    "slideshow": {
     "slide_type": "slide"
    }
   },
   "outputs": [
    {
     "data": {
      "text/plain": [
       "['lyrics/billboard/winning.txt',\n",
       " 'lyrics/billboard/move_ya_body.txt',\n",
       " 'lyrics/billboard/separated.txt',\n",
       " 'lyrics/billboard/face_down.txt',\n",
       " 'lyrics/billboard/whistle.txt',\n",
       " 'lyrics/billboard/cant_nobody_hold_me_down.txt',\n",
       " 'lyrics/billboard/if_i_die_young.txt',\n",
       " 'lyrics/billboard/bohemian_rhapsody.txt',\n",
       " 'lyrics/billboard/shut_up_and_drive.txt',\n",
       " 'lyrics/billboard/titanium.txt',\n",
       " 'lyrics/billboard/the_one_that_you_love.txt',\n",
       " 'lyrics/billboard/shoulder_lean.txt',\n",
       " 'lyrics/billboard/no_more_i_love_yous.txt',\n",
       " 'lyrics/billboard/do_that_to_me_one_more_time.txt',\n",
       " 'lyrics/billboard/with_or_without_you.txt',\n",
       " 'lyrics/billboard/big_pimpin.txt',\n",
       " 'lyrics/billboard/she_aint_worth_it.txt',\n",
       " 'lyrics/billboard/with_every_beat_of_my_heart.txt',\n",
       " 'lyrics/billboard/yes_we_can_can.txt',\n",
       " 'lyrics/billboard/bartender.txt']"
      ]
     },
     "execution_count": 38,
     "metadata": {},
     "output_type": "execute_result"
    }
   ],
   "source": [
    "random.sample(glob('lyrics/billboard/*'), 20)"
   ]
  },
  {
   "cell_type": "code",
   "execution_count": 1,
   "metadata": {
    "slideshow": {
     "slide_type": "skip"
    }
   },
   "outputs": [],
   "source": [
    "from toolz.curried import *\n",
    "from toolz.dicttoolz import merge_with\n",
    "from string import punctuation\n",
    "from collections import defaultdict\n",
    "punc = str.maketrans({p:None for p in punctuation})"
   ]
  },
  {
   "cell_type": "code",
   "execution_count": 19,
   "metadata": {
    "slideshow": {
     "slide_type": "slide"
    }
   },
   "outputs": [
    {
     "data": {
      "text/plain": [
       "[('what', 7140),\n",
       " ('baby', 7913),\n",
       " ('with', 8173),\n",
       " ('just', 8528),\n",
       " ('like', 9597),\n",
       " ('know', 9993),\n",
       " ('dont', 10315),\n",
       " ('love', 13204),\n",
       " ('your', 13709),\n",
       " ('that', 14231)]"
      ]
     },
     "execution_count": 19,
     "metadata": {},
     "output_type": "execute_result"
    }
   ],
   "source": [
    "def wordcount_imp(directory):\n",
    "\n",
    "        d = defaultdict(int)\n",
    "        for f in glob(directory):\n",
    "                for line in open(f, 'r'):\n",
    "                        line = line.split()\n",
    "                        line = [w.lower().translate(punc) for w in line]\n",
    "                        for s in line:\n",
    "                                d[s] += 1\n",
    "\n",
    "        return {k:d[k] for k in d.keys() if len(k) >= 4}\n",
    "    \n",
    "words = wordcount_imp('lyrics/billboard/*')\n",
    "sorted(words.items(), key=lambda x: x[1])[-10:]"
   ]
  },
  {
   "cell_type": "code",
   "execution_count": 20,
   "metadata": {
    "slideshow": {
     "slide_type": "slide"
    }
   },
   "outputs": [
    {
     "data": {
      "text/plain": [
       "[('what', 7140),\n",
       " ('baby', 7913),\n",
       " ('with', 8173),\n",
       " ('just', 8528),\n",
       " ('like', 9597),\n",
       " ('know', 9993),\n",
       " ('dont', 10315),\n",
       " ('love', 13204),\n",
       " ('your', 13709),\n",
       " ('that', 14231)]"
      ]
     },
     "execution_count": 20,
     "metadata": {},
     "output_type": "execute_result"
    }
   ],
   "source": [
    "def stem(word: str) -> str:\n",
    "        return word.lower().translate(punc)\n",
    "\n",
    "def drop_word(word: str) -> bool:\n",
    "        return len(word) >= 4\n",
    "    \n",
    "workflow = (glob,\n",
    "            mapcat(open),\n",
    "            mapcat(str.split),\n",
    "            map(stem),\n",
    "            frequencies,\n",
    "            keyfilter(drop_word))\n",
    "\n",
    "wordcount_f = compose(*reversed(workflow))\n",
    "words = wordcount_f('lyrics/billboard/*')\n",
    "sorted(words.items(), key=lambda x: x[1])[-10:]"
   ]
  },
  {
   "cell_type": "code",
   "execution_count": 21,
   "metadata": {
    "slideshow": {
     "slide_type": "slide"
    }
   },
   "outputs": [],
   "source": [
    "billboard = wordcount_f('lyrics/billboard/*')\n",
    "dylan = wordcount_f('lyrics/dylan/*')\n",
    "\n",
    "m = merge_with(sum, valmap(lambda x: x / sum(dylan.values()), dylan),\n",
    "                    valmap(lambda x: -x / sum(billboard.values()), billboard))"
   ]
  },
  {
   "cell_type": "code",
   "execution_count": 23,
   "metadata": {
    "slideshow": {
     "slide_type": "skip"
    }
   },
   "outputs": [],
   "source": [
    "def col_print(l, cols=5, width=12):\n",
    "\n",
    "        group = zip(*[l[i::cols] for i in range(cols)])\n",
    "        for row in group:\n",
    "                print(''.join(word.ljust(width) for word in row))"
   ]
  },
  {
   "cell_type": "code",
   "execution_count": 29,
   "metadata": {
    "slideshow": {
     "slide_type": "slide"
    }
   },
   "outputs": [
    {
     "name": "stdout",
     "output_type": "stream",
     "text": [
      "\n",
      "Dylan:\n",
      "hand        more        gone        many        woman       \n",
      "blues       poor        wind        looked      them        \n",
      "long        train       river       broken      home        \n",
      "behind      hard        says        might       mama        \n",
      "people      lonesome    theres      town        door        \n",
      "will        must        dead        road        their       \n",
      "went        been        said        lord        where       \n",
      "there       from        down        they        well        \n",
      "\n",
      "Billboard:\n",
      "love        yeah        baby        know        want        \n",
      "cause       dont        like        girl        wanna       \n",
      "make        this        what        need        right       \n",
      "your        take        feel        youre       just        \n",
      "give        life        cant        gotta       lets        \n",
      "thats       dance       really      keep        stop        \n",
      "real        never       time        good        think       \n",
      "heart       show        shit        wont        hold        \n"
     ]
    }
   ],
   "source": [
    "print('\\nDylan:')\n",
    "col_print(sorted(m, key=m.get)[-40:])\n",
    "print('\\nBillboard:')\n",
    "col_print(sorted(m, key=m.get)[:40])"
   ]
  }
 ],
 "metadata": {
  "celltoolbar": "Slideshow",
  "kernelspec": {
   "display_name": "Python 3",
   "language": "python",
   "name": "python3"
  },
  "language_info": {
   "codemirror_mode": {
    "name": "ipython",
    "version": 3
   },
   "file_extension": ".py",
   "mimetype": "text/x-python",
   "name": "python",
   "nbconvert_exporter": "python",
   "pygments_lexer": "ipython3",
   "version": "3.6.4"
  }
 },
 "nbformat": 4,
 "nbformat_minor": 2
}
